{
 "cells": [
  {
   "cell_type": "code",
   "execution_count": null,
   "metadata": {},
   "outputs": [],
   "source": [
    "import matplotlib.pyplot as plt\n",
    "import os\n",
    "import sys\n",
    "\n",
    "sys.path.append('..')\n",
    "os.environ.update(dict(CUDA_VISIBLE_DEVICES='3'))\n",
    "\n",
    "import torch\n",
    "import torch.nn as nn\n",
    "import numpy as np\n",
    "import pandas as pd\n",
    "from tqdm import tqdm\n",
    "\n",
    "from analysis import *"
   ]
  },
  {
   "cell_type": "code",
   "execution_count": null,
   "metadata": {},
   "outputs": [],
   "source": [
    "data = torch.load('/ssd1/tta/inc/inc_all_resnet50_bn_INC0-5_00.pth')"
   ]
  },
  {
   "cell_type": "code",
   "execution_count": null,
   "metadata": {},
   "outputs": [],
   "source": [
    "for key in data:\n",
    "    d = data[key]\n",
    "    if type(d) != list:\n",
    "        d = [d]\n",
    "    print(f'{key}:{[s.shape for s in d]}')"
   ]
  },
  {
   "cell_type": "code",
   "execution_count": null,
   "metadata": {},
   "outputs": [],
   "source": [
    "#features, labels\n",
    "features = data['features']\n",
    "embeddings = data['embeddings']\n",
    "labels = data['labels']\n",
    "logits = data['logits']\n",
    "styles = data['styles']\n",
    "correct = data['correct'].type(torch.int)"
   ]
  },
  {
   "cell_type": "code",
   "execution_count": null,
   "metadata": {},
   "outputs": [],
   "source": [
    "(features[lyr] - styles[lyr][..., None, None]).shape"
   ]
  },
  {
   "cell_type": "code",
   "execution_count": null,
   "metadata": {},
   "outputs": [],
   "source": [
    "features_im[-1].mean(0).shape"
   ]
  },
  {
   "cell_type": "code",
   "execution_count": null,
   "metadata": {},
   "outputs": [],
   "source": [
    "# tsne_num = 2048\n",
    "# tsne_idx = np.random.choice(len(features_im[-1]), tsne_num)\n",
    "\n",
    "tsne_idx = cidx(0)\n",
    "tsne_num = sum(tsne_idx)\n",
    "layer = 3\n",
    "\n",
    "ncls = 4\n",
    "tsne_data = tuple(features_im[layer][cidx(i)] for i in range(ncls)) + tuple(features_inc[layer][cidx(i)] for i in range(ncls))\n",
    "tsne_fts = np.concatenate(tsne_data)\n",
    "# tsne_labels = np.concatenate((np.zeros(tsne_num*ncls), np.ones(tsne_num*ncls)))\n",
    "tsne_labels = np.concatenate(tuple(np.ones(tsne_num) * i for i in range(len(tsne_data))))\n",
    "\n",
    "t_ncls = ncls\n",
    "_,_ = visualize_tsne(tsne_fts, tsne_labels, \n",
    "                     [f\"ImageNet(C{i})\" for i in range(t_ncls)] + [f\"INC(C{i})\" for i in range(t_ncls)],\n",
    "                  perplexity=15, dimension=2, figsize=(10, 5))"
   ]
  },
  {
   "cell_type": "code",
   "execution_count": null,
   "metadata": {},
   "outputs": [],
   "source": []
  }
 ],
 "metadata": {
  "language_info": {
   "name": "python"
  }
 },
 "nbformat": 4,
 "nbformat_minor": 2
}
