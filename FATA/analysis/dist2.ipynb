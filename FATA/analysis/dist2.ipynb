{
 "cells": [
  {
   "cell_type": "code",
   "execution_count": null,
   "metadata": {},
   "outputs": [],
   "source": [
    "import matplotlib.pyplot as plt\n",
    "import os\n",
    "os.environ.update(dict(CUDA_VISIBLE_DEVICES='3'))\n",
    "\n",
    "import torch\n",
    "import torch.nn as nn\n",
    "import numpy as np\n",
    "import pandas as pd\n",
    "from tqdm import tqdm"
   ]
  },
  {
   "cell_type": "code",
   "execution_count": null,
   "metadata": {},
   "outputs": [],
   "source": [
    "data = torch.load('/ssd1/tta/imagenet_val_resnet50_lyrfts_full.pth')\n",
    "# data = torch.load('/ssd1/tta/inc4_resnet50_shf_bn_full.pth')"
   ]
  },
  {
   "cell_type": "code",
   "execution_count": null,
   "metadata": {},
   "outputs": [],
   "source": [
    "#features, labels\n",
    "features_inc = data['features']\n",
    "features_im = data['ifeatures'] # 50000, C (2048, 1024, 512, 256)\n",
    "labels = data['labels']\n",
    "logits_inc = data['logits']\n",
    "logits_im = data['ilogits']\n",
    "correct = data['correct'].type(torch.int)\n",
    "\n",
    "layer = -1\n",
    "\n",
    "def cidx(i):\n",
    "    return labels == i"
   ]
  },
  {
   "cell_type": "code",
   "execution_count": null,
   "metadata": {},
   "outputs": [],
   "source": [
    "v = torch.stack(\n",
    "   (features_im[2].mean(0), features_im[2].var(0))\n",
    ")\n",
    "print(v.shape)\n",
    "torch.save(v, '/ssd1/tta/imagenet_val_resnet50_lyr3_stat.pth')"
   ]
  },
  {
   "cell_type": "code",
   "execution_count": null,
   "metadata": {},
   "outputs": [],
   "source": [
    "v = torch.stack(\n",
    "    tuple(features_im[2][cidx(i)].std(0) for i in range(1000))\n",
    ").mean(0)\n",
    "print(v.shape)\n",
    "v = (v-v.mean())/v.std()\n",
    "# v = (v-v.min())/(v.max()-v.min())\n",
    "pd.Series(v.numpy()).hist(bins=100)\n",
    "\n",
    "torch.save(v, '/ssd1/tta/imagenet_val_resnet50_lyr3_std.pth')"
   ]
  },
  {
   "cell_type": "code",
   "execution_count": null,
   "metadata": {},
   "outputs": [],
   "source": [
    "var2 = features_im[2].std(dim=0)\n",
    "var2 = (var2 - var2.mean()) / var2.std()\n",
    "# var2 = np.exp(var2)\n",
    "# var2 = 1 / (1 + np.exp(-var2))\n",
    "# var2 = np.clip(var2, a_min=0, a_max=10)\n",
    "pd.Series(var2.numpy()).hist(bins=100)"
   ]
  }
 ],
 "metadata": {
  "language_info": {
   "name": "python"
  }
 },
 "nbformat": 4,
 "nbformat_minor": 2
}
