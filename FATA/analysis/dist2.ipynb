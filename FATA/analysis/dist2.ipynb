{
 "cells": [
  {
   "cell_type": "code",
   "execution_count": null,
   "metadata": {},
   "outputs": [],
   "source": [
    "import matplotlib.pyplot as plt\n",
    "import os\n",
    "os.environ.update(dict(CUDA_VISIBLE_DEVICES='3'))\n",
    "\n",
    "import torch\n",
    "import torch.nn as nn\n",
    "import numpy as np\n",
    "import pandas as pd\n",
    "from tqdm import tqdm"
   ]
  },
  {
   "cell_type": "code",
   "execution_count": null,
   "metadata": {},
   "outputs": [],
   "source": [
    "data = torch.load('/ssd1/tta/imagenet_val_resnet50_lyrfts_full.pth')\n",
    "# data = torch.load('/ssd1/tta/inc4_resnet50_shf_bn_full.pth')"
   ]
  },
  {
   "cell_type": "code",
   "execution_count": null,
   "metadata": {},
   "outputs": [],
   "source": [
    "#features, labels\n",
    "features_inc = data['features']\n",
    "features_im = data['ifeatures'] # 50000, C (2048, 1024, 512, 256)\n",
    "labels = data['labels']\n",
    "logits_inc = data['logits']\n",
    "logits_im = data['ilogits']\n",
    "correct = data['correct'].type(torch.int)\n",
    "\n",
    "layer = -1\n",
    "\n",
    "def cidx(i):\n",
    "    return labels == i"
   ]
  }
 ],
 "metadata": {
  "language_info": {
   "name": "python"
  }
 },
 "nbformat": 4,
 "nbformat_minor": 2
}
