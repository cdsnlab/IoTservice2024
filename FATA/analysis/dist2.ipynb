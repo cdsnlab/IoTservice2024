{
 "cells": [
  {
   "cell_type": "code",
   "execution_count": null,
   "metadata": {},
   "outputs": [],
   "source": [
    "import matplotlib.pyplot as plt\n",
    "import os\n",
    "os.environ.update(dict(CUDA_VISIBLE_DEVICES='3'))\n",
    "\n",
    "import torch\n",
    "import torch.nn as nn\n",
    "import numpy as np\n",
    "import pandas as pd\n",
    "from tqdm import tqdm"
   ]
  },
  {
   "cell_type": "code",
   "execution_count": null,
   "metadata": {},
   "outputs": [],
   "source": [
    "data = torch.load('/ssd1/tta/imagenet_val_resnet50_lyrfts_full.pth')\n",
    "# data = torch.load('/ssd1/tta/inc4_resnet50_shf_bn_full.pth')"
   ]
  },
  {
   "cell_type": "code",
   "execution_count": null,
   "metadata": {},
   "outputs": [],
   "source": [
    "#features, labels\n",
    "features_inc = data['features']\n",
    "features_im = data['ifeatures'] # 50000, C (2048, 1024, 512, 256)\n",
    "labels = data['labels']\n",
    "logits_inc = data['logits']\n",
    "logits_im = data['ilogits']\n",
    "correct = data['correct'].type(torch.int)\n",
    "\n",
    "layer = -1\n",
    "\n",
    "def cidx(i):\n",
    "    return labels == i"
   ]
  },
  {
   "cell_type": "code",
   "execution_count": null,
   "metadata": {},
   "outputs": [],
   "source": [
    "v = torch.stack(\n",
    "   (features_im[2].mean(0), features_im[2].var(0))\n",
    ")\n",
    "print(v.shape)\n",
    "torch.save(v, '/ssd1/tta/imagenet_val_resnet50_lyr3_stat.pth')"
   ]
  },
  {
   "cell_type": "code",
   "execution_count": null,
   "metadata": {},
   "outputs": [],
   "source": [
    "v = torch.stack(\n",
    "    tuple(features_im[2][cidx(i)].std(0) for i in range(1000))\n",
    ").mean(0)\n",
    "print(v.shape)\n",
    "v = (v-v.mean())/v.std()\n",
    "# v = (v-v.min())/(v.max()-v.min())\n",
    "pd.Series(v.numpy()).hist(bins=100)\n",
    "\n",
    "torch.save(v, '/ssd1/tta/imagenet_val_resnet50_lyr3_std.pth')"
   ]
  },
  {
   "cell_type": "code",
   "execution_count": null,
   "metadata": {},
   "outputs": [],
   "source": [
    "var2 = features_im[2].std(dim=0)\n",
    "var2 = (var2 - var2.mean()) / var2.std()\n",
    "# var2 = np.exp(var2)\n",
    "# var2 = 1 / (1 + np.exp(-var2))\n",
    "# var2 = np.clip(var2, a_min=0, a_max=10)\n",
    "pd.Series(var2.numpy()).hist(bins=100)"
   ]
  },
  {
   "cell_type": "code",
   "execution_count": null,
   "metadata": {},
   "outputs": [],
   "source": [
    "from openTSNE import TSNE\n",
    "import openTSNE.callbacks\n",
    "import numpy as np\n",
    "from mpl_toolkits.mplot3d import Axes3D\n",
    "from matplotlib import pyplot as plt\n",
    "from tqdm import tqdm\n",
    "class ProgressCallback(openTSNE.callbacks.Callback):\n",
    "    def __init__(self, pbar: tqdm, step: int=1) -> None:\n",
    "        super().__init__()\n",
    "        self.pbar = pbar\n",
    "        self.step = step\n",
    "\n",
    "    def __call__(self, iteration, error, embedding):\n",
    "        self.pbar.update(self.step)\n",
    "        return False"
   ]
  },
  {
   "cell_type": "code",
   "execution_count": null,
   "metadata": {},
   "outputs": [],
   "source": [
    "import matplotlib as mpl\n",
    "def visualize_tsne(features: np.ndarray, labels: np.ndarray, label_names: list[str]=None,\n",
    "                   figsize=(10, 10), dimension=2, perplexity=30, legend_nrow=2):\n",
    "    \n",
    "    print(f'{features.shape=}, {labels.shape=}')\n",
    "\n",
    "    with tqdm(total=750) as pbar:\n",
    "        tsne = TSNE(n_jobs=8, \n",
    "                    n_components=dimension, \n",
    "                    perplexity=perplexity, \n",
    "                    callbacks_every_iters=1,\n",
    "                    callbacks=ProgressCallback(pbar, 1))\n",
    "        trained = tsne.fit(features)\n",
    "\n",
    "    cluster = np.array(trained)\n",
    "\n",
    "    print('t-SNE computed, waiting for plot...')\n",
    "\n",
    "    fig = plt.figure(figsize=figsize)\n",
    "    ax = fig.add_subplot() if dimension < 3 else fig.add_subplot(projection='3d')\n",
    "    \n",
    "    classes = np.unique(labels)\n",
    "    ncls = len(classes)//2\n",
    "    for i in classes:\n",
    "        idx = np.where(labels == i)\n",
    "        ax_args = dict(\n",
    "            marker = 'o' if i < ncls else '^', \n",
    "            label = i if label_names is None else label_names[int(i)], \n",
    "            edgecolors = 'face' if i<10 else '#000000bb', \n",
    "            linewidths = 0.5,\n",
    "            c=mpl.color_sequences['tab10'][int(i%ncls)]\n",
    "        )\n",
    "\n",
    "        if dimension < 3:\n",
    "            ax.scatter(cluster[idx, 0], cluster[idx, 1], **ax_args)\n",
    "        else:\n",
    "            ax.scatter(cluster[idx, 0], cluster[idx, 1] ,cluster[idx, 2], **ax_args)\n",
    "            \n",
    "    ax.autoscale()\n",
    "\n",
    "    plt.legend(loc='lower center', ncol=len(classes)//legend_nrow, bbox_to_anchor=(0.5, -0.05))\n",
    "    plt.axis('off')\n",
    "    plt.show()\n",
    "\n",
    "    return cluster, fig\n",
    "\n",
    "\n"
   ]
  },
  {
   "cell_type": "code",
   "execution_count": null,
   "metadata": {},
   "outputs": [],
   "source": [
    "# tsne_num = 2048\n",
    "# tsne_idx = np.random.choice(len(features_im[-1]), tsne_num)\n",
    "\n",
    "tsne_idx = cidx(0)\n",
    "tsne_num = sum(tsne_idx)\n",
    "layer = 3\n",
    "\n",
    "ncls = 4\n",
    "tsne_data = tuple(features_im[layer][cidx(i)] for i in range(ncls)) + tuple(features_inc[layer][cidx(i)] for i in range(ncls))\n",
    "tsne_fts = np.concatenate(tsne_data)\n",
    "# tsne_labels = np.concatenate((np.zeros(tsne_num*ncls), np.ones(tsne_num*ncls)))\n",
    "tsne_labels = np.concatenate(tuple(np.ones(tsne_num) * i for i in range(len(tsne_data))))\n",
    "\n",
    "t_ncls = ncls\n",
    "_,_ = visualize_tsne(tsne_fts, tsne_labels, \n",
    "                     [f\"ImageNet(C{i})\" for i in range(t_ncls)] + [f\"INC(C{i})\" for i in range(t_ncls)],\n",
    "                  perplexity=15, dimension=2, figsize=(10, 5))"
   ]
  }
 ],
 "metadata": {
  "language_info": {
   "name": "python"
  }
 },
 "nbformat": 4,
 "nbformat_minor": 2
}
