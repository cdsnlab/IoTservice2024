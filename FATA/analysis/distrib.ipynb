{
 "cells": [
  {
   "cell_type": "code",
   "execution_count": null,
   "metadata": {},
   "outputs": [],
   "source": [
    "import matplotlib.pyplot as plt\n",
    "import os\n",
    "import sys\n",
    "\n",
    "sys.path.append('..')\n",
    "os.environ.update(dict(CUDA_VISIBLE_DEVICES='3'))\n",
    "\n",
    "import torch\n",
    "import torch.nn as nn\n",
    "import numpy as np\n",
    "import pandas as pd\n",
    "from tqdm import tqdm\n",
    "\n",
    "from torch.distributions import MultivariateNormal\n",
    "from models.Res import ResNet, resnet50\n",
    "\n",
    "from analysis import *"
   ]
  },
  {
   "cell_type": "code",
   "execution_count": null,
   "metadata": {},
   "outputs": [],
   "source": [
    "class ResNetWrapper(nn.Module):\n",
    "    def __init__(self, net: ResNet, i_block=0):\n",
    "        super().__init__()\n",
    "        self.net = net\n",
    "        self.i_block = i_block\n",
    "    \n",
    "    def forward(self, x, return_feature=False, return_feature_only=False):\n",
    "        if self.i_block <= 0:\n",
    "            x = self.net.conv1(x)\n",
    "            x = self.net.bn1(x)\n",
    "            x = self.net.relu(x)\n",
    "            x = self.net.maxpool(x)\n",
    "\n",
    "        if self.i_block <= 1:\n",
    "            x = self.net.layer1(x)\n",
    "            \n",
    "        if self.i_block <= 2:\n",
    "            x = self.net.layer2(x)\n",
    "\n",
    "        if self.i_block <= 3:\n",
    "            x = self.net.layer3(x)\n",
    "        # if return_feature:\n",
    "        #     feature = x\n",
    "        if self.i_block <= 4:\n",
    "            x = self.net.layer4(x)\n",
    "            x = self.net.avgpool(x)\n",
    "            x = x.reshape(x.size(0), -1)\n",
    "            \n",
    "        if return_feature:\n",
    "            feature = x\n",
    "        x = self.net.fc(x)\n",
    "\n",
    "        if return_feature:\n",
    "            if return_feature_only:\n",
    "                return feature\n",
    "            else:\n",
    "                return x, feature\n",
    "\n",
    "        else:\n",
    "            return x"
   ]
  },
  {
   "cell_type": "code",
   "execution_count": null,
   "metadata": {},
   "outputs": [],
   "source": [
    "L1, L2, L3, L4, FT = torch.load('/ssd1/tta/imagenet_val_resnet50_distributions.pth')\n",
    "#mean, ncov, ninv, V, L"
   ]
  },
  {
   "cell_type": "code",
   "execution_count": null,
   "metadata": {},
   "outputs": [],
   "source": [
    "L1['mean'].shape"
   ]
  },
  {
   "cell_type": "code",
   "execution_count": null,
   "metadata": {},
   "outputs": [],
   "source": [
    "d = MultivariateNormal(L4['mean'], L4['cov'])"
   ]
  },
  {
   "cell_type": "code",
   "execution_count": null,
   "metadata": {},
   "outputs": [],
   "source": [
    "model = resnet50(pretrained=True)\n",
    "model = ResNetWrapper(model, 5)\n",
    "model.eval()"
   ]
  },
  {
   "cell_type": "code",
   "execution_count": null,
   "metadata": {},
   "outputs": [],
   "source": [
    "x = model(d.sample_n(3).float().view(3, 2048))\n",
    "x.softmax(1).argmax(1)"
   ]
  },
  {
   "cell_type": "code",
   "execution_count": null,
   "metadata": {},
   "outputs": [],
   "source": [
    "ddd = torch.load('/ssd1/tta/inc/inc_all_resnet50_bn_INC0-5_00.pth')\n",
    "f0 = ddd['features'][0][0]\n",
    "f1 = ddd['features'][1][0]\n",
    "f2 = ddd['features'][2][0]\n",
    "f3 = ddd['features'][3][0]"
   ]
  },
  {
   "cell_type": "code",
   "execution_count": null,
   "metadata": {},
   "outputs": [],
   "source": [
    "ddd.keys()"
   ]
  },
  {
   "cell_type": "code",
   "execution_count": null,
   "metadata": {},
   "outputs": [],
   "source": [
    "f3.size()"
   ]
  },
  {
   "cell_type": "code",
   "execution_count": null,
   "metadata": {},
   "outputs": [],
   "source": [
    "with torch.no_grad():\n",
    "    w1 = model(f3)\n",
    "    w2 = model(f3.mean((-1, -2)).view(256, 2048, 1, 1))"
   ]
  },
  {
   "cell_type": "code",
   "execution_count": null,
   "metadata": {},
   "outputs": [],
   "source": [
    "w1.softmax(1).argmax(1)[:10]"
   ]
  },
  {
   "cell_type": "code",
   "execution_count": null,
   "metadata": {},
   "outputs": [],
   "source": [
    "w2.softmax(1).argmax(1)[:10]"
   ]
  }
 ],
 "metadata": {
  "language_info": {
   "name": "python"
  }
 },
 "nbformat": 4,
 "nbformat_minor": 2
}
