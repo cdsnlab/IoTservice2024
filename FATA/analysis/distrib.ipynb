{
 "cells": [
  {
   "cell_type": "code",
   "execution_count": null,
   "metadata": {},
   "outputs": [],
   "source": [
    "import matplotlib.pyplot as plt\n",
    "import os\n",
    "import sys\n",
    "\n",
    "sys.path.append('..')\n",
    "os.environ.update(dict(CUDA_VISIBLE_DEVICES='3'))\n",
    "\n",
    "import torch\n",
    "import torch.nn as nn\n",
    "import numpy as np\n",
    "import pandas as pd\n",
    "from tqdm import tqdm\n",
    "\n",
    "from torch.distributions import MultivariateNormal\n",
    "from models.Res import ResNet, resnet50\n",
    "\n",
    "from analysis import *"
   ]
  },
  {
   "cell_type": "code",
   "execution_count": null,
   "metadata": {},
   "outputs": [],
   "source": [
    "class ResNetWrapper(nn.Module):\n",
    "    def __init__(self, net: ResNet, i_block=0):\n",
    "        super().__init__()\n",
    "        self.net = net\n",
    "        self.i_block = i_block\n",
    "    \n",
    "    def forward(self, x, return_feature=False, return_feature_only=False):\n",
    "        if self.i_block <= 0:\n",
    "            x = self.net.conv1(x)\n",
    "            x = self.net.bn1(x)\n",
    "            x = self.net.relu(x)\n",
    "            x = self.net.maxpool(x)\n",
    "\n",
    "        if self.i_block <= 1:\n",
    "            x = self.net.layer1(x)\n",
    "            \n",
    "        if self.i_block <= 2:\n",
    "            x = self.net.layer2(x)\n",
    "\n",
    "        if self.i_block <= 3:\n",
    "            x = self.net.layer3(x)\n",
    "        # if return_feature:\n",
    "        #     feature = x\n",
    "        if self.i_block <= 4:\n",
    "            x = self.net.layer4(x)\n",
    "            x = self.net.avgpool(x)\n",
    "            x = x.reshape(x.size(0), -1)\n",
    "            \n",
    "        if return_feature:\n",
    "            feature = x\n",
    "        x = self.net.fc(x)\n",
    "\n",
    "        if return_feature:\n",
    "            if return_feature_only:\n",
    "                return feature\n",
    "            else:\n",
    "                return x, feature\n",
    "\n",
    "        else:\n",
    "            return x"
   ]
  }
 ],
 "metadata": {
  "language_info": {
   "name": "python"
  }
 },
 "nbformat": 4,
 "nbformat_minor": 2
}
