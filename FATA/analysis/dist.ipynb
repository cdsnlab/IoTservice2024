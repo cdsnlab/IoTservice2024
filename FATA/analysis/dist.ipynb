{
 "cells": [
  {
   "cell_type": "code",
   "execution_count": null,
   "metadata": {},
   "outputs": [],
   "source": [
    "import matplotlib.pyplot as plt\n",
    "import os\n",
    "os.environ.update(dict(CUDA_VISIBLE_DEVICES='3'))\n",
    "\n",
    "import torch\n",
    "import torch.nn as nn\n",
    "import numpy as np\n",
    "import pandas as pd\n",
    "from tqdm import tqdm"
   ]
  },
  {
   "cell_type": "code",
   "execution_count": null,
   "metadata": {},
   "outputs": [],
   "source": [
    "# data = torch.load('/ssd1/tta/imagenet_val_resnet50_lyrfts_full.pth')\n",
    "data = torch.load('/ssd1/tta/imagenet_val_resnet50_shf_bn_full.pth')"
   ]
  },
  {
   "cell_type": "code",
   "execution_count": null,
   "metadata": {},
   "outputs": [],
   "source": [
    "#features, labels\n",
    "features_inc = data['features']\n",
    "features_im = data['ifeatures'] # 50000, C (2048, 1024, 512, 256)\n",
    "labels = data['labels']\n",
    "logits_inc = data['logits']\n",
    "logits_im = data['ilogits']\n",
    "correct = data['correct'].type(torch.int)\n",
    "\n",
    "layer = -1\n",
    "\n",
    "def cidx(i):\n",
    "    return labels == i\n",
    "\n",
    "def cov(tensor: torch.Tensor, rowvar=True, bias=False):\n",
    "    \"\"\"Estimate a covariance matrix (np.cov)\"\"\"\n",
    "    tensor = tensor if rowvar else tensor.transpose(-1, -2)\n",
    "    tensor = tensor - tensor.mean(dim=-1, keepdim=True)\n",
    "    factor = 1 / (tensor.shape[-1] - int(not bool(bias)))\n",
    "    return factor * tensor @ tensor.transpose(-1, -2).conj()\n",
    "\n",
    "def cls_distrib(c: int):\n",
    "    ft: torch.Tensor = features_im[layer][cidx(c)].cuda() # 50, C\n",
    "    cv = cov(ft, rowvar=False).type(torch.float64)\n",
    "    L = torch.linalg.cholesky(cv + torch.eye(ft.shape[1]).cuda() * 1e-6)\n",
    "    return ft.mean(0).cpu(), torch.cholesky_inverse(L).cpu() #cov(ft, rowvar=False) #ft.var(0).sqrt()\n",
    "\n",
    "# cls_distribs = []\n",
    "# for c in tqdm(range(1000)):\n",
    "#     cls_distribs.append(cls_distrib(c))"
   ]
  }
 ],
 "metadata": {
  "language_info": {
   "name": "python"
  }
 },
 "nbformat": 4,
 "nbformat_minor": 2
}
