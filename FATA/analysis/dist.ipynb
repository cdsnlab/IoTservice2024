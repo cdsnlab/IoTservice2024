{
 "cells": [
  {
   "cell_type": "code",
   "execution_count": null,
   "metadata": {},
   "outputs": [],
   "source": [
    "import matplotlib.pyplot as plt\n",
    "import os\n",
    "os.environ.update(dict(CUDA_VISIBLE_DEVICES='3'))\n",
    "\n",
    "import torch\n",
    "import torch.nn as nn\n",
    "import numpy as np\n",
    "import pandas as pd\n",
    "from tqdm import tqdm"
   ]
  },
  {
   "cell_type": "code",
   "execution_count": null,
   "metadata": {},
   "outputs": [],
   "source": [
    "# data = torch.load('/ssd1/tta/imagenet_val_resnet50_lyrfts_full.pth')\n",
    "data = torch.load('/ssd1/tta/imagenet_val_resnet50_shf_bn_full.pth')"
   ]
  },
  {
   "cell_type": "code",
   "execution_count": null,
   "metadata": {},
   "outputs": [],
   "source": [
    "#features, labels\n",
    "features_inc = data['features']\n",
    "features_im = data['ifeatures'] # 50000, C (2048, 1024, 512, 256)\n",
    "labels = data['labels']\n",
    "logits_inc = data['logits']\n",
    "logits_im = data['ilogits']\n",
    "correct = data['correct'].type(torch.int)\n",
    "\n",
    "layer = -1\n",
    "\n",
    "def cidx(i):\n",
    "    return labels == i\n",
    "\n",
    "def cov(tensor: torch.Tensor, rowvar=True, bias=False):\n",
    "    \"\"\"Estimate a covariance matrix (np.cov)\"\"\"\n",
    "    tensor = tensor if rowvar else tensor.transpose(-1, -2)\n",
    "    tensor = tensor - tensor.mean(dim=-1, keepdim=True)\n",
    "    factor = 1 / (tensor.shape[-1] - int(not bool(bias)))\n",
    "    return factor * tensor @ tensor.transpose(-1, -2).conj()\n",
    "\n",
    "def cls_distrib(c: int):\n",
    "    ft: torch.Tensor = features_im[layer][cidx(c)].cuda() # 50, C\n",
    "    cv = cov(ft, rowvar=False).type(torch.float64)\n",
    "    L = torch.linalg.cholesky(cv + torch.eye(ft.shape[1]).cuda() * 1e-6)\n",
    "    return ft.mean(0).cpu(), torch.cholesky_inverse(L).cpu() #cov(ft, rowvar=False) #ft.var(0).sqrt()\n",
    "\n",
    "# cls_distribs = []\n",
    "# for c in tqdm(range(1000)):\n",
    "#     cls_distribs.append(cls_distrib(c))"
   ]
  },
  {
   "cell_type": "code",
   "execution_count": null,
   "metadata": {},
   "outputs": [],
   "source": [
    "def get_distrib(data: torch.Tensor):\n",
    "    data = data.type(torch.double)\n",
    "    cov = data.T.cov()\n",
    "    L, V = torch.linalg.eig(cov)\n",
    "    L = L.type(torch.double)\n",
    "    V = V.type(torch.double)\n",
    "    L[L<0] = 0.\n",
    "    ncov = V @ torch.diag(L) @ torch.linalg.inv(V)\n",
    "    ninv = V @ torch.diag(L).inverse() @ torch.linalg.inv(V)\n",
    "    mean = data.mean(0)\n",
    "    print(mean.shape, ncov.shape)\n",
    "    return mean, ncov, ninv, V, L"
   ]
  },
  {
   "cell_type": "code",
   "execution_count": null,
   "metadata": {},
   "outputs": [],
   "source": [
    "savedata = []\n",
    "for ft in features_im:\n",
    "    mean, ncov, ninv, V, L = get_distrib(ft)\n",
    "    savedata.append(dict(mean=mean, cov=ncov, cinv=ninv, V=V, L=L))\n",
    "\n",
    "torch.save(savedata, '/ssd1/tta/imagenet_val_resnet50_distributions.pth')"
   ]
  },
  {
   "cell_type": "code",
   "execution_count": null,
   "metadata": {},
   "outputs": [],
   "source": [
    "def mahalanobis(u, v, cov):\n",
    "    delta = (u - v)\n",
    "    m = torch.dot(delta, torch.matmul(cov.double(), delta))\n",
    "    return torch.sqrt(m).float()"
   ]
  },
  {
   "cell_type": "code",
   "execution_count": null,
   "metadata": {},
   "outputs": [],
   "source": [
    "mahalanobis(features_inc[2][3], savedata[2]['mean'], savedata[2]['cinv'])"
   ]
  },
  {
   "cell_type": "code",
   "execution_count": null,
   "metadata": {},
   "outputs": [],
   "source": [
    "def mahalanobis(u, v, cov):\n",
    "    delta = (u - v)\n",
    "    m = torch.dot(delta, torch.matmul(cov.type(torch.float64).type(torch.float32), delta))\n",
    "    print(f'{u.shape=} {v.shape=} {delta.shape=} {m.shape=} {cov.shape=}')\n",
    "    print(m)\n",
    "    return torch.sqrt(m)\n",
    "\n",
    "def cls_dist(x: torch.Tensor, c: int): #x: 2048, c: int\n",
    "    mean, cov = cls_distribs[c]\n",
    "    # t = mahalanobis(x, mean.cuda(), cov.cuda())\n",
    "    # print(t)\n",
    "    t = ((x - mean.cuda()) ** 2).sum().sqrt()\n",
    "    return t.cpu()\n",
    "    # return ((x - cls_centers[c]) ** 2).sum().sqrt()\n",
    "\n",
    "dists = []\n",
    "# cls_dist(features_inc[layer][3].cuda(), labels[3])\n",
    "# for c in tqdm(range(1000)):\n",
    "#     x = features_inc[layer][cidx(c)].cuda() # 50, C\n",
    "#     d = cls_dist(x, labels[c]).numpy()\n",
    "#     # print(d.shape)\n",
    "#     print(d)\n",
    "#     break\n",
    "#     dists.append(d)\n",
    "\n",
    "for x, c in tqdm(zip(features_inc[layer], labels), total=len(labels)):\n",
    "    dists.append(cls_dist(x.cuda(), labels[c]).numpy())\n",
    "# dists = np.stack([cls_dist(x, labels[c]).numpy() for x, c in ])\n",
    "dists = np.stack(dists)\n",
    "# dists.shape"
   ]
  },
  {
   "cell_type": "code",
   "execution_count": null,
   "metadata": {},
   "outputs": [],
   "source": [
    "cls_dist(features_inc[-1][1].cuda(), labels[1])"
   ]
  },
  {
   "cell_type": "code",
   "execution_count": null,
   "metadata": {},
   "outputs": [],
   "source": [
    "cfd_src = logits_im.softmax(dim=1).max(dim=1)[0]\n",
    "cfd_inc = logits_inc.softmax(dim=1).max(dim=1)[0]\n",
    "\n",
    "cfd_dif = (cfd_inc - cfd_src)\n",
    "\n",
    "# dists = np.stack([cls_dist(x, labels[c]).numpy() for x, c in zip(features_inc[layer], labels)])\n",
    "# dists.shape\n",
    "# ft_dif = nn.functional.cosine_similarity(features_inc[0], features_im[0])\n",
    "# ft_dif = ((features_inc[0] - features_im[0]) ** 2).sqrt()\n",
    "# ft_dif = ((features_inc[1] - features_im[1]) ** 2).sum(dim=1).sqrt()\n",
    "# ft_dif.shape"
   ]
  },
  {
   "cell_type": "code",
   "execution_count": null,
   "metadata": {},
   "outputs": [],
   "source": [
    "df = pd.DataFrame({\n",
    "    'dists': dists,\n",
    "    'cfd_inc': cfd_inc.numpy(),\n",
    "    'cfd_dif': cfd_dif.numpy(),\n",
    "    'correct': correct.numpy(),\n",
    "})"
   ]
  },
  {
   "cell_type": "code",
   "execution_count": null,
   "metadata": {},
   "outputs": [],
   "source": [
    "df.describe()"
   ]
  },
  {
   "cell_type": "code",
   "execution_count": null,
   "metadata": {},
   "outputs": [],
   "source": [
    "df.corr()"
   ]
  },
  {
   "cell_type": "code",
   "execution_count": null,
   "metadata": {},
   "outputs": [],
   "source": [
    "df_dist = pd.Series(dists)\n",
    "df_cfd = pd.Series(cfd_dif[cidx(10)].numpy())"
   ]
  },
  {
   "cell_type": "code",
   "execution_count": null,
   "metadata": {},
   "outputs": [],
   "source": [
    "df_cfd.plot()"
   ]
  },
  {
   "cell_type": "code",
   "execution_count": null,
   "metadata": {},
   "outputs": [],
   "source": [
    "df_dist.corr(df_cfd)"
   ]
  },
  {
   "cell_type": "code",
   "execution_count": null,
   "metadata": {},
   "outputs": [],
   "source": [
    "fig, ax = plt.subplots(figsize=(20,10))\n",
    "scatter = ax.scatter(dists, cfd_inc, s=5, c=1-correct.numpy(), cmap='bwr')\n",
    "ax.add_artist(ax.legend(scatter.legend_elements()[0], ['Correct', 'Wrong'], fontsize=20))\n",
    "# ax.legend(['a', 'b'])\n",
    "plt.rc('xtick', labelsize=10)\n",
    "plt.rc('ytick', labelsize=10)\n",
    "plt.show()"
   ]
  },
  {
   "cell_type": "code",
   "execution_count": null,
   "metadata": {},
   "outputs": [],
   "source": [
    "fig, ax = plt.subplots(figsize=(20,10))\n",
    "y=1-correct.numpy()\n",
    "scatter = ax.scatter(dists, s=5, y=y, c=y, cmap='bwr')\n",
    "ax.add_artist(ax.legend(scatter.legend_elements()[0], ['Correct', 'Wrong'], fontsize=20))\n",
    "# ax.legend(['a', 'b'])\n",
    "plt.rc('xtick', labelsize=10)\n",
    "plt.rc('ytick', labelsize=10)\n",
    "plt.show()"
   ]
  },
  {
   "cell_type": "code",
   "execution_count": null,
   "metadata": {},
   "outputs": [],
   "source": [
    "def corr(i):\n",
    "    df_cfd = pd.Series(cfd_dif[cidx(i)].numpy().T)\n",
    "    df_ft = pd.DataFrame(ft_dif[cidx(i)].numpy())  \n",
    "    return df_ft.corrwith(df_cfd).item()"
   ]
  },
  {
   "cell_type": "code",
   "execution_count": null,
   "metadata": {},
   "outputs": [],
   "source": [
    "corrs = pd.Series([corr(i) for i in range(1000)])"
   ]
  },
  {
   "cell_type": "code",
   "execution_count": null,
   "metadata": {},
   "outputs": [],
   "source": [
    "corrs.describe()"
   ]
  },
  {
   "cell_type": "code",
   "execution_count": null,
   "metadata": {},
   "outputs": [],
   "source": [
    "corrs.hist()"
   ]
  },
  {
   "cell_type": "code",
   "execution_count": null,
   "metadata": {},
   "outputs": [],
   "source": [
    "from openTSNE import TSNE\n",
    "import openTSNE.callbacks\n",
    "import numpy as np\n",
    "from mpl_toolkits.mplot3d import Axes3D\n",
    "from matplotlib import pyplot as plt\n",
    "from tqdm import tqdm\n",
    "class ProgressCallback(openTSNE.callbacks.Callback):\n",
    "    def __init__(self, pbar: tqdm, step: int=1) -> None:\n",
    "        super().__init__()\n",
    "        self.pbar = pbar\n",
    "        self.step = step\n",
    "\n",
    "    def __call__(self, iteration, error, embedding):\n",
    "        self.pbar.update(self.step)\n",
    "        return False"
   ]
  },
  {
   "cell_type": "code",
   "execution_count": null,
   "metadata": {},
   "outputs": [],
   "source": [
    "def visualize_tsne(features: np.ndarray, labels: np.ndarray, label_names: list[str]=None,\n",
    "                   figsize=(10, 10), dimension=2, perplexity=30, legend_nrow=2):\n",
    "    \n",
    "    print(f'{features.shape=}, {labels.shape=}')\n",
    "\n",
    "    with tqdm(total=750) as pbar:\n",
    "        tsne = TSNE(n_jobs=8, \n",
    "                    n_components=dimension, \n",
    "                    perplexity=perplexity, \n",
    "                    callbacks_every_iters=1,\n",
    "                    callbacks=ProgressCallback(pbar, 1))\n",
    "        trained = tsne.fit(features)\n",
    "\n",
    "    cluster = np.array(trained)\n",
    "\n",
    "    print('t-SNE computed, waiting for plot...')\n",
    "\n",
    "    fig = plt.figure(figsize=figsize)\n",
    "    ax = fig.add_subplot() if dimension < 3 else fig.add_subplot(projection='3d')\n",
    "    \n",
    "    classes = np.unique(labels)\n",
    "    for i in classes:\n",
    "        idx = np.where(labels == i)\n",
    "        ax_args = dict(\n",
    "            marker = '.' if i < 10 else 'o', \n",
    "            label = i if label_names is None else label_names[int(i)], \n",
    "            edgecolors = 'face' if i<10 else '#000000bb', \n",
    "            linewidths = 0.5\n",
    "        )\n",
    "\n",
    "        if dimension < 3:\n",
    "            ax.scatter(cluster[idx, 0], cluster[idx, 1], **ax_args)\n",
    "        else:\n",
    "            ax.scatter(cluster[idx, 0], cluster[idx, 1] ,cluster[idx, 2], **ax_args)\n",
    "            \n",
    "    ax.autoscale()\n",
    "\n",
    "    plt.legend(loc='lower center', ncol=len(classes)//legend_nrow, bbox_to_anchor=(0.5, -0.05))\n",
    "    plt.axis('off')\n",
    "    plt.show()\n",
    "\n",
    "    return cluster, fig\n",
    "\n",
    "\n"
   ]
  },
  {
   "cell_type": "code",
   "execution_count": null,
   "metadata": {},
   "outputs": [],
   "source": [
    "tsne_num = 2048\n",
    "tsne_idx = np.random.choice(len(features_im[-1]), tsne_num)\n",
    "tsne_fts = np.concatenate((features_im[-1][tsne_idx], features_inc[-1][tsne_idx]))\n",
    "tsne_labels = np.concatenate((np.zeros(tsne_num), np.ones(tsne_num)))\n",
    "\n",
    "visualize_tsne(tsne_fts, tsne_labels, [\"ImageNet\", \"IN-C G5\"])"
   ]
  }
 ],
 "metadata": {
  "language_info": {
   "name": "python"
  }
 },
 "nbformat": 4,
 "nbformat_minor": 2
}
