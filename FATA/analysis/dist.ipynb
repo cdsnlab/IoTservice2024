{
 "cells": [
  {
   "cell_type": "code",
   "execution_count": null,
   "metadata": {},
   "outputs": [],
   "source": [
    "import matplotlib.pyplot as plt\n",
    "import os\n",
    "os.environ.update(dict(CUDA_VISIBLE_DEVICES='3'))\n",
    "\n",
    "import torch\n",
    "import torch.nn as nn\n",
    "import numpy as np\n",
    "import pandas as pd\n",
    "from tqdm import tqdm"
   ]
  },
  {
   "cell_type": "code",
   "execution_count": null,
   "metadata": {},
   "outputs": [],
   "source": [
    "# data = torch.load('/ssd1/tta/imagenet_val_resnet50_lyrfts_full.pth')\n",
    "data = torch.load('/ssd1/tta/imagenet_val_resnet50_shf_bn_full.pth')"
   ]
  },
  {
   "cell_type": "code",
   "execution_count": null,
   "metadata": {},
   "outputs": [],
   "source": [
    "#features, labels\n",
    "features_inc = data['features']\n",
    "features_im = data['ifeatures'] # 50000, C (2048, 1024, 512, 256)\n",
    "labels = data['labels']\n",
    "logits_inc = data['logits']\n",
    "logits_im = data['ilogits']\n",
    "correct = data['correct'].type(torch.int)\n",
    "\n",
    "layer = -1\n",
    "\n",
    "def cidx(i):\n",
    "    return labels == i\n",
    "\n",
    "def cov(tensor: torch.Tensor, rowvar=True, bias=False):\n",
    "    \"\"\"Estimate a covariance matrix (np.cov)\"\"\"\n",
    "    tensor = tensor if rowvar else tensor.transpose(-1, -2)\n",
    "    tensor = tensor - tensor.mean(dim=-1, keepdim=True)\n",
    "    factor = 1 / (tensor.shape[-1] - int(not bool(bias)))\n",
    "    return factor * tensor @ tensor.transpose(-1, -2).conj()\n",
    "\n",
    "def cls_distrib(c: int):\n",
    "    ft: torch.Tensor = features_im[layer][cidx(c)].cuda() # 50, C\n",
    "    cv = cov(ft, rowvar=False).type(torch.float64)\n",
    "    L = torch.linalg.cholesky(cv + torch.eye(ft.shape[1]).cuda() * 1e-6)\n",
    "    return ft.mean(0).cpu(), torch.cholesky_inverse(L).cpu() #cov(ft, rowvar=False) #ft.var(0).sqrt()\n",
    "\n",
    "# cls_distribs = []\n",
    "# for c in tqdm(range(1000)):\n",
    "#     cls_distribs.append(cls_distrib(c))"
   ]
  },
  {
   "cell_type": "code",
   "execution_count": null,
   "metadata": {},
   "outputs": [],
   "source": [
    "def get_distrib(data: torch.Tensor):\n",
    "    data = data.type(torch.double)\n",
    "    cov = data.T.cov()\n",
    "    L, V = torch.linalg.eig(cov)\n",
    "    L = L.type(torch.double)\n",
    "    V = V.type(torch.double)\n",
    "    L[L<0] = 0.\n",
    "    ncov = V @ torch.diag(L) @ torch.linalg.inv(V)\n",
    "    ninv = V @ torch.diag(L).inverse() @ torch.linalg.inv(V)\n",
    "    mean = data.mean(0)\n",
    "    print(mean.shape, ncov.shape)\n",
    "    return mean, ncov, ninv, V, L"
   ]
  },
  {
   "cell_type": "code",
   "execution_count": null,
   "metadata": {},
   "outputs": [],
   "source": [
    "savedata = []\n",
    "for ft in features_im:\n",
    "    mean, ncov, ninv, V, L = get_distrib(ft)\n",
    "    savedata.append(dict(mean=mean, cov=ncov, cinv=ninv, V=V, L=L))\n",
    "\n",
    "torch.save(savedata, '/ssd1/tta/imagenet_val_resnet50_distributions.pth')"
   ]
  },
  {
   "cell_type": "code",
   "execution_count": null,
   "metadata": {},
   "outputs": [],
   "source": [
    "def mahalanobis(u, v, cov):\n",
    "    delta = (u - v)\n",
    "    m = torch.dot(delta, torch.matmul(cov.double(), delta))\n",
    "    return torch.sqrt(m).float()"
   ]
  },
  {
   "cell_type": "code",
   "execution_count": null,
   "metadata": {},
   "outputs": [],
   "source": [
    "mahalanobis(features_inc[2][3], savedata[2]['mean'], savedata[2]['cinv'])"
   ]
  }
 ],
 "metadata": {
  "language_info": {
   "name": "python"
  }
 },
 "nbformat": 4,
 "nbformat_minor": 2
}
