{
 "cells": [
  {
   "cell_type": "code",
   "execution_count": null,
   "metadata": {},
   "outputs": [],
   "source": [
    "import matplotlib.pyplot as plt\n",
    "import pickle\n",
    "import pandas as pd\n",
    "import numpy as np"
   ]
  },
  {
   "cell_type": "code",
   "execution_count": null,
   "metadata": {},
   "outputs": [],
   "source": [
    "def load(m):\n",
    "    with open(f'/home/nahappy15/accepTAble/sample_stat_gaussian_noise_{m}.pkl', 'rb') as f:\n",
    "        c_list = pickle.load(f)\n",
    "    return m, c_list"
   ]
  },
  {
   "cell_type": "code",
   "execution_count": null,
   "metadata": {},
   "outputs": [],
   "source": [
    "method_list = ['noadapt', 'eata', 'eata_aug', 'sar', 'sar_aug','deyo', 'deyo_aug',]\n",
    "data = {}\n",
    "for m in method_list:\n",
    "    k, v = load(m)\n",
    "    data[k] = v"
   ]
  },
  {
   "cell_type": "code",
   "execution_count": null,
   "metadata": {},
   "outputs": [],
   "source": [
    "def count_class(data_list):\n",
    "    ent_num = np.zeros((1000,))\n",
    "    correct_num = np.zeros((1000,))\n",
    "    data_num = np.zeros((1000,), dtype=np.float32)\n",
    "    correct_rate = np.zeros((1000,), dtype=np.float32)\n",
    "\n",
    "    for _, ef, lbl, cor in data_list:\n",
    "        for i in ef:\n",
    "            ent_num[i] += 1\n",
    "        for l, c in zip(lbl, cor):\n",
    "            if c:\n",
    "                correct_num[l] += 1\n",
    "            data_num[l] += 1\n",
    "    \n",
    "    data_num[data_num==0] = 1\n",
    "    correct_rate = correct_num / data_num\n",
    "    return ent_num, correct_num, correct_rate, data_num"
   ]
  },
  {
   "cell_type": "code",
   "execution_count": null,
   "metadata": {},
   "outputs": [],
   "source": [
    "exp = 'deyo'\n",
    "e0, c0, r0, n0 = count_class(data['noadapt'])\n",
    "en, cn, cr, nr = count_class(data[exp])\n",
    "ena, cna, cra, nra = count_class(data[f'{exp}_aug'])"
   ]
  },
  {
   "cell_type": "code",
   "execution_count": null,
   "metadata": {},
   "outputs": [],
   "source": [
    "df = pd.DataFrame([e0, c0, en, ena, cn, cna, cr, cra, nr, nra], \n",
    "                  index=['e0', 'c0', 'ent_num', 'ent_num_aug', 'correct_num', 'correct_num_aug', 'correct_rate', 'correct_rate_aug', 'num', 'num_aug']).T\n",
    "df['ie0'] = df['e0'] // 10\n",
    "df['ie'] = df['ent_num'] // 10\n",
    "df['iea'] = df['ent_num_aug'] // 10\n",
    "df"
   ]
  },
  {
   "cell_type": "code",
   "execution_count": null,
   "metadata": {},
   "outputs": [],
   "source": [
    "dff = df.drop(['correct_rate', 'correct_rate_aug'], axis=1)\n",
    "\n",
    "dff = pd.DataFrame([\n",
    "    dff.groupby('ie0').mean()['c0'] / 50.,\n",
    "    dff.groupby('ie').mean()['correct_num'] / 50.,\n",
    "    dff.groupby('iea').mean()['correct_num_aug'] / 50.\n",
    "]).T\n",
    "dff"
   ]
  },
  {
   "cell_type": "code",
   "execution_count": null,
   "metadata": {},
   "outputs": [],
   "source": [
    "dff.plot(kind='bar')"
   ]
  },
  {
   "cell_type": "code",
   "execution_count": null,
   "metadata": {},
   "outputs": [],
   "source": [
    "df.plot(x='ie', y=['e0', 'ent_num', 'ent_num_aug'], kind='hist')\n",
    "# df.plot(x='ie', y=['correct_rate', 'correct_rate_aug'], kind='hist')"
   ]
  },
  {
   "cell_type": "code",
   "execution_count": null,
   "metadata": {},
   "outputs": [],
   "source": [
    "df.describe()"
   ]
  },
  {
   "cell_type": "code",
   "execution_count": null,
   "metadata": {},
   "outputs": [],
   "source": [
    "df.hist(['e0', 'ent_num', 'ent_num_aug'], bins=10)"
   ]
  },
  {
   "cell_type": "code",
   "execution_count": null,
   "metadata": {},
   "outputs": [],
   "source": [
    "df.hist('e0', bins=16) #65% of data has only <5 samples -- y: # class, x: # samples"
   ]
  },
  {
   "cell_type": "code",
   "execution_count": null,
   "metadata": {},
   "outputs": [],
   "source": [
    "df['e0'].to_csv('e0.csv', index=False)"
   ]
  },
  {
   "cell_type": "code",
   "execution_count": null,
   "metadata": {},
   "outputs": [],
   "source": [
    "df['ec0'] = df['e0'] // 5"
   ]
  },
  {
   "cell_type": "code",
   "execution_count": null,
   "metadata": {},
   "outputs": [],
   "source": [
    "df[['e0', 'ec0', 'c0']].groupby('ec0').mean() * 2"
   ]
  },
  {
   "cell_type": "code",
   "execution_count": null,
   "metadata": {},
   "outputs": [],
   "source": [
    "dff[['cr0', 'correct_rate', 'correct_rate_aug']].to_csv('r0.csv')"
   ]
  },
  {
   "cell_type": "code",
   "execution_count": null,
   "metadata": {},
   "outputs": [],
   "source": [
    "df[['e0', 'c0']].plot(x='e0', y='c0', kind='scatter', s=1)"
   ]
  },
  {
   "cell_type": "code",
   "execution_count": null,
   "metadata": {},
   "outputs": [],
   "source": [
    "df[['e0', 'c0']].corr()"
   ]
  }
 ],
 "metadata": {
  "language_info": {
   "name": "python"
  }
 },
 "nbformat": 4,
 "nbformat_minor": 2
}
