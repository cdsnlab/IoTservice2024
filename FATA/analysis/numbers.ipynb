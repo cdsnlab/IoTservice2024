{
 "cells": [
  {
   "cell_type": "code",
   "execution_count": null,
   "metadata": {},
   "outputs": [],
   "source": [
    "import matplotlib.pyplot as plt\n",
    "import pickle\n",
    "import pandas as pd\n",
    "import numpy as np"
   ]
  },
  {
   "cell_type": "code",
   "execution_count": null,
   "metadata": {},
   "outputs": [],
   "source": [
    "def load(m):\n",
    "    with open(f'/home/nahappy15/accepTAble/sample_stat_gaussian_noise_{m}.pkl', 'rb') as f:\n",
    "        c_list = pickle.load(f)\n",
    "    return m, c_list"
   ]
  },
  {
   "cell_type": "code",
   "execution_count": null,
   "metadata": {},
   "outputs": [],
   "source": [
    "method_list = ['noadapt', 'eata', 'eata_aug', 'sar', 'sar_aug','deyo', 'deyo_aug',]\n",
    "data = {}\n",
    "for m in method_list:\n",
    "    k, v = load(m)\n",
    "    data[k] = v"
   ]
  },
  {
   "cell_type": "code",
   "execution_count": null,
   "metadata": {},
   "outputs": [],
   "source": [
    "def count_class(data_list):\n",
    "    ent_num = np.zeros((1000,))\n",
    "    correct_num = np.zeros((1000,))\n",
    "    data_num = np.zeros((1000,), dtype=np.float32)\n",
    "    correct_rate = np.zeros((1000,), dtype=np.float32)\n",
    "\n",
    "    for _, ef, lbl, cor in data_list:\n",
    "        for i in ef:\n",
    "            ent_num[i] += 1\n",
    "        for l, c in zip(lbl, cor):\n",
    "            if c:\n",
    "                correct_num[l] += 1\n",
    "            data_num[l] += 1\n",
    "    \n",
    "    data_num[data_num==0] = 1\n",
    "    correct_rate = correct_num / data_num\n",
    "    return ent_num, correct_num, correct_rate, data_num"
   ]
  }
 ],
 "metadata": {
  "language_info": {
   "name": "python"
  }
 },
 "nbformat": 4,
 "nbformat_minor": 2
}
