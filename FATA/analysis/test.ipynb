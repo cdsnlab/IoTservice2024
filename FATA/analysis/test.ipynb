{
 "cells": [
  {
   "cell_type": "code",
   "execution_count": null,
   "metadata": {},
   "outputs": [],
   "source": [
    "import matplotlib.pyplot as plt\n",
    "import os\n",
    "import sys\n",
    "\n",
    "sys.path.append('..')\n",
    "os.environ.update(dict(CUDA_VISIBLE_DEVICES='3'))\n",
    "\n",
    "import torch\n",
    "import torch.nn as nn\n",
    "import numpy as np\n",
    "import pandas as pd\n",
    "from tqdm import tqdm\n",
    "\n",
    "from torch.distributions import MultivariateNormal\n",
    "from models.Res import ResNet, resnet50\n",
    "import torchvision.transforms as T\n",
    "from torchvision.datasets import ImageFolder\n",
    "from torch.utils.data import DataLoader\n",
    "\n",
    "from analysis import *\n",
    "\n",
    "def hook(module, args, output):\n",
    "    module._output = output.data\n",
    "    return output"
   ]
  },
  {
   "cell_type": "code",
   "execution_count": null,
   "metadata": {},
   "outputs": [],
   "source": [
    "model = resnet50(pretrained=True).cuda()\n",
    "model.eval()"
   ]
  },
  {
   "cell_type": "code",
   "execution_count": null,
   "metadata": {},
   "outputs": [],
   "source": [
    "normalize = T.Normalize(mean=[0.485, 0.456, 0.406],\n",
    "                                    std=[0.229, 0.224, 0.225])\n",
    "\n",
    "transform = T.Compose(\n",
    "    [T.Resize(256),\n",
    "        T.CenterCrop(224),\n",
    "        T.ToTensor(),\n",
    "        normalize,\n",
    "        ])\n",
    "\n",
    "dataset = ImageFolder('/ssd1/datasets/corruptions/ImageNet-C/gaussian_noise/5/', transform=transform)\n",
    "loader = DataLoader(dataset, batch_size=100, shuffle=False, num_workers=16)\n"
   ]
  },
  {
   "cell_type": "code",
   "execution_count": null,
   "metadata": {},
   "outputs": [],
   "source": [
    "@torch.jit.script\n",
    "def softmax_entropy(x: torch.Tensor) -> torch.Tensor:\n",
    "    \"\"\"Entropy of softmax distribution from logits.\"\"\"\n",
    "    return -(x.softmax(1) * x.log_softmax(1)).sum(1)\n",
    "\n",
    "\n",
    "with torch.no_grad():\n",
    "    entropys = []\n",
    "    for i, (x, _) in enumerate(tqdm(loader)):\n",
    "        x = x.cuda()\n",
    "        y = model(x)\n",
    "        e = softmax_entropy(y)\n",
    "        entropys.append(e)\n",
    "\n",
    "    entropys = torch.concat(entropys)"
   ]
  },
  {
   "cell_type": "code",
   "execution_count": null,
   "metadata": {},
   "outputs": [],
   "source": [
    "torch.save(entropys, 'entropys.pth')"
   ]
  },
  {
   "cell_type": "code",
   "execution_count": null,
   "metadata": {},
   "outputs": [],
   "source": [
    "df = pd.DataFrame(entropys.cpu().numpy())"
   ]
  },
  {
   "cell_type": "code",
   "execution_count": null,
   "metadata": {},
   "outputs": [],
   "source": [
    "df.to_csv('entropys.csv')"
   ]
  },
  {
   "cell_type": "code",
   "execution_count": null,
   "metadata": {},
   "outputs": [],
   "source": [
    "df[df<0.5*np.log(1000)].count()"
   ]
  },
  {
   "cell_type": "code",
   "execution_count": null,
   "metadata": {},
   "outputs": [],
   "source": [
    "df.hist()"
   ]
  },
  {
   "cell_type": "code",
   "execution_count": null,
   "metadata": {},
   "outputs": [],
   "source": []
  }
 ],
 "metadata": {
  "language_info": {
   "name": "python"
  }
 },
 "nbformat": 4,
 "nbformat_minor": 2
}
