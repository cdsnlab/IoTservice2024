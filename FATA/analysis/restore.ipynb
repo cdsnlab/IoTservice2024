{
 "cells": [
  {
   "cell_type": "code",
   "execution_count": null,
   "metadata": {},
   "outputs": [],
   "source": [
    "import matplotlib.pyplot as plt\n",
    "import os\n",
    "import sys\n",
    "\n",
    "sys.path.append('..')\n",
    "os.environ.update(dict(CUDA_VISIBLE_DEVICES='3'))\n",
    "\n",
    "import torch\n",
    "import torch.nn as nn\n",
    "import numpy as np\n",
    "import pandas as pd\n",
    "from tqdm import tqdm\n",
    "\n",
    "from torch.distributions import MultivariateNormal\n",
    "from models.Res import ResNet, resnet50\n",
    "\n",
    "from analysis import *\n",
    "\n",
    "def hook(module, args, output):\n",
    "    module._output = output.data\n",
    "    return output\n",
    "\n",
    "class ResNetWrapper(nn.Module):\n",
    "    def __init__(self, model):\n",
    "        super(ResNetWrapper, self).__init__()\n",
    "        self.model = model\n",
    "        self.model.requires_grad_(False)\n",
    "        self.image = torch.autograd.Variable(torch.randn(1, 3, 224, 224).cuda(), requires_grad=True)\n",
    "    \n",
    "    def forward(self):\n",
    "        return self.model(self.image)"
   ]
  },
  {
   "cell_type": "code",
   "execution_count": null,
   "metadata": {},
   "outputs": [],
   "source": [
    "model = resnet50(pretrained=True).cuda()\n",
    "model = ResNetWrapper(model)\n",
    "model.eval()\n",
    "\n",
    "model.model.layer3.register_forward_hook(hook)"
   ]
  },
  {
   "cell_type": "code",
   "execution_count": null,
   "metadata": {},
   "outputs": [],
   "source": [
    "L3 = torch.load('/ssd1/tta/inc/inc_all_resnet50_bn_INC0-5_00.pth')['features'][2]"
   ]
  },
  {
   "cell_type": "code",
   "execution_count": null,
   "metadata": {},
   "outputs": [],
   "source": [
    "L3 = L3.reshape(-1, 1024, 14, 14).cuda()\n",
    "L3.shape"
   ]
  },
  {
   "cell_type": "code",
   "execution_count": null,
   "metadata": {},
   "outputs": [],
   "source": [
    "model.requires_grad_(False)\n",
    "model = model.cuda()\n",
    "optimizer = torch.optim.Adam((model.image,), lr=1)\n",
    "scheduler = torch.optim.lr_scheduler.ExponentialLR(optimizer, 0.999)\n",
    "\n",
    "ft = L3[1].unsqueeze(0)\n",
    "criterion = nn.MSELoss()\n",
    "progress = tqdm(range(1000))\n",
    "for _ in progress:\n",
    "    model()\n",
    "    loss = criterion(ft, model.model.layer3._output)\n",
    "    progress.set_postfix_str(f'{loss.item():.4f}')\n",
    "    loss.backward()\n",
    "    optimizer.step()\n",
    "    optimizer.zero_grad()\n",
    "    scheduler.step()\n"
   ]
  },
  {
   "cell_type": "code",
   "execution_count": null,
   "metadata": {},
   "outputs": [],
   "source": [
    "import torchvision.transforms as T\n",
    "transform = T.Compose([ \n",
    "    T.Normalize(mean = [ 0., 0., 0. ], std = [ 1/0.229, 1/0.224, 1/0.225 ]), \n",
    "    T.Normalize(mean = [ -0.485, -0.456, -0.406 ], std=[ 1., 1., 1. ]),\n",
    "    # T.ToPILImage()\n",
    "    ])\n",
    "plt.imshow(transform(model.image[0].detach().cpu()))"
   ]
  },
  {
   "cell_type": "code",
   "execution_count": null,
   "metadata": {},
   "outputs": [],
   "source": [
    "transform(model.image[0].detach().cpu())"
   ]
  }
 ],
 "metadata": {
  "language_info": {
   "name": "python"
  }
 },
 "nbformat": 4,
 "nbformat_minor": 2
}
