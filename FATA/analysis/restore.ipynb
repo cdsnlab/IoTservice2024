{
 "cells": [
  {
   "cell_type": "code",
   "execution_count": null,
   "metadata": {},
   "outputs": [],
   "source": [
    "import matplotlib.pyplot as plt\n",
    "import os\n",
    "import sys\n",
    "\n",
    "sys.path.append('..')\n",
    "os.environ.update(dict(CUDA_VISIBLE_DEVICES='3'))\n",
    "\n",
    "import torch\n",
    "import torch.nn as nn\n",
    "import numpy as np\n",
    "import pandas as pd\n",
    "from tqdm import tqdm\n",
    "\n",
    "from torch.distributions import MultivariateNormal\n",
    "from models.Res import ResNet, resnet50\n",
    "\n",
    "from analysis import *\n",
    "\n",
    "def hook(module, args, output):\n",
    "    module._output = output.data\n",
    "    return output\n",
    "\n",
    "class ResNetWrapper(nn.Module):\n",
    "    def __init__(self, model):\n",
    "        super(ResNetWrapper, self).__init__()\n",
    "        self.model = model\n",
    "        self.model.requires_grad_(False)\n",
    "        self.image = torch.autograd.Variable(torch.randn(1, 3, 224, 224).cuda(), requires_grad=True)\n",
    "    \n",
    "    def forward(self):\n",
    "        return self.model(self.image)"
   ]
  },
  {
   "cell_type": "code",
   "execution_count": null,
   "metadata": {},
   "outputs": [],
   "source": [
    "model = resnet50(pretrained=True).cuda()\n",
    "model = ResNetWrapper(model)\n",
    "model.eval()\n",
    "\n",
    "model.model.layer3.register_forward_hook(hook)"
   ]
  }
 ],
 "metadata": {
  "language_info": {
   "name": "python"
  }
 },
 "nbformat": 4,
 "nbformat_minor": 2
}
